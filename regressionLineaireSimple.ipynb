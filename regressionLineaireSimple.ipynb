{
 "cells": [
  {
   "cell_type": "markdown",
   "metadata": {},
   "source": [
    "# A. First linear regression using Python"
   ]
  },
  {
   "cell_type": "code",
   "execution_count": 119,
   "metadata": {},
   "outputs": [],
   "source": [
    "import pandas as pd #manipulation des tab\n",
    "import numpy as np #calcule\n",
    "import matplotlib.pyplot as plt #graphes\n",
    "from sklearn.linear_model import LinearRegression\n",
    "import statsmodels.api as sm\n",
    "filename =\"tabBats.txt\""
   ]
  },
  {
   "cell_type": "markdown",
   "metadata": {},
   "source": [
    "### 1) On veut trouver le lien qui existe entre les variables BOW (Body mass) et BRW(brain mass) "
   ]
  },
  {
   "cell_type": "markdown",
   "metadata": {},
   "source": [
    "#### a) Use the corresponding Python command to plot BOW/BRW. What type of graphic is displayed ?"
   ]
  },
  {
   "cell_type": "code",
   "execution_count": 122,
   "metadata": {},
   "outputs": [
    {
     "data": {
      "text/html": [
       "<div>\n",
       "<style scoped>\n",
       "    .dataframe tbody tr th:only-of-type {\n",
       "        vertical-align: middle;\n",
       "    }\n",
       "\n",
       "    .dataframe tbody tr th {\n",
       "        vertical-align: top;\n",
       "    }\n",
       "\n",
       "    .dataframe thead th {\n",
       "        text-align: right;\n",
       "    }\n",
       "</style>\n",
       "<table border=\"1\" class=\"dataframe\">\n",
       "  <thead>\n",
       "    <tr style=\"text-align: right;\">\n",
       "      <th></th>\n",
       "      <th>BOW</th>\n",
       "      <th>BRW</th>\n",
       "    </tr>\n",
       "  </thead>\n",
       "  <tbody>\n",
       "    <tr>\n",
       "      <th>0</th>\n",
       "      <td>136.3</td>\n",
       "      <td>2070.00</td>\n",
       "    </tr>\n",
       "    <tr>\n",
       "      <th>1</th>\n",
       "      <td>120.0</td>\n",
       "      <td>2210.00</td>\n",
       "    </tr>\n",
       "    <tr>\n",
       "      <th>2</th>\n",
       "      <td>58.7</td>\n",
       "      <td>1310.00</td>\n",
       "    </tr>\n",
       "    <tr>\n",
       "      <th>3</th>\n",
       "      <td>48.3</td>\n",
       "      <td>1184.33</td>\n",
       "    </tr>\n",
       "    <tr>\n",
       "      <th>4</th>\n",
       "      <td>184.0</td>\n",
       "      <td>3028.00</td>\n",
       "    </tr>\n",
       "  </tbody>\n",
       "</table>\n",
       "</div>"
      ],
      "text/plain": [
       "     BOW      BRW\n",
       "0  136.3  2070.00\n",
       "1  120.0  2210.00\n",
       "2   58.7  1310.00\n",
       "3   48.3  1184.33\n",
       "4  184.0  3028.00"
      ]
     },
     "execution_count": 122,
     "metadata": {},
     "output_type": "execute_result"
    }
   ],
   "source": [
    "#On récupère les données\n",
    "table = pd.read_csv(filename, sep=\" \", header=0) #lecture de table sans header\n",
    "tab = table[[\"BOW\", \"BRW\"]]#on affiche les 5 premières lignes pour vérifier\n",
    "tab.head()"
   ]
  },
  {
   "cell_type": "code",
   "execution_count": 123,
   "metadata": {},
   "outputs": [
    {
     "data": {
      "image/png": "[encoded data removed]",
      "text/plain": [
       "<Figure size 432x288 with 1 Axes>"
      ]
     },
     "metadata": {},
     "output_type": "display_data"
    }
   ],
   "source": [
    "#Affichage des données de BOW par rapport à BRW\n",
    "plt.scatter(tab[\"BRW\"],(tab[\"BOW\"]) , c='black') # on tracele nuage de points\n",
    "#on défint qqs caractéristiques du graphes\n",
    "plt.style.use('seaborn-whitegrid')\n",
    "plt.title('nuage de points BOW/BRW')\n",
    "plt.xlabel('BOW') \n",
    "plt.ylabel('BRW')\n",
    "plt.show()\n"
   ]
  },
  {
   "cell_type": "markdown",
   "metadata": {},
   "source": [
    "Le graphique affiché est un nuage de points BRW par rapport à BOW"
   ]
  },
  {
   "cell_type": "markdown",
   "metadata": {},
   "source": [
    "#### b) Describe the resulting graph. What type of link to you notice between the two variables ? Is this tendency verified for all individuals ?"
   ]
  },
  {
   "cell_type": "markdown",
   "metadata": {},
   "source": [
    "#### - Description du graphe"
   ]
  },
  {
   "cell_type": "markdown",
   "metadata": {},
   "source": [
    "On constate que les points sur le graphe sont regroupés près d'une ligne imaginaire qui part du coin inférieur gauche au coin supérieur droit."
   ]
  },
  {
   "cell_type": "markdown",
   "metadata": {},
   "source": [
    "#### - Type de lien entre ces 2 variables"
   ]
  },
  {
   "cell_type": "markdown",
   "metadata": {},
   "source": [
    "Suite à ce constat, on peut dire que la relation entre les 2 variables est postive ou directe c'est-à-dire une augmentation de la valeur de x implique une augmentation de celle de y."
   ]
  },
  {
   "cell_type": "markdown",
   "metadata": {},
   "source": [
    "#### - Vérification de la tendance pour tous les individus(observations ou lignes)"
   ]
  },
  {
   "cell_type": "markdown",
   "metadata": {},
   "source": [
    "Cette tendance n'est malheureusement pas vérifiée pour tous les individus car il y a des individus qui semblent être très éloignés de cette ligne imaginaire ou encore des autres. Cela indique sûrement l'existence des valeurs aberrantes."
   ]
  },
  {
   "cell_type": "markdown",
   "metadata": {},
   "source": [
    "#### c) Write down the equation of the regression model that seems suited for this data set"
   ]
  },
  {
   "cell_type": "markdown",
   "metadata": {},
   "source": [
    "Etant donnée qu'on a une variable quantitative qui dépend d'une autre, le modèle de regression qui semble correspondre à ce jeu de données c'est le modèle de regression linéaire simple. L'équation qui correspond à ce modèle est la suivante :\n",
    "$ y_{pred} = b_0 + b_1*x $"
   ]
  },
  {
   "cell_type": "markdown",
   "metadata": {},
   "source": [
    "### 2) Use the corresponding command Python to start the linear regression. Display the corresponding Python variable to know the regression coefficients."
   ]
  },
  {
   "cell_type": "code",
   "execution_count": 130,
   "metadata": {},
   "outputs": [
    {
     "name": "stdout",
     "output_type": "stream",
     "text": [
      "Coefficients de regressions de y càd BRW : \n",
      "\t 𝑏₀ =  623.4469035692691\n",
      "\t 𝑏₁ =  8.999877638992249\n",
      "Ainsi l'équation de regression linéaire est : \n",
      "\t Y = 623.45 + 9.0X\n"
     ]
    }
   ],
   "source": [
    "# On trouve les coefficients de regression de BRW\n",
    "# BOW (masse corporelle) correspond à la variable explicative\n",
    "# On redimensionne le tableau des données de BOW pour qu'elle soit en 2D\n",
    "# En effet, l'idée c'est d'avoir une colonne pour chaque ligne de y\n",
    "#On note y la variable BRW et x la variable BOW\n",
    "y = tab['BRW'].values\n",
    "#print(\"Variable à expliquer, BRW = \", y)\n",
    "x = tab['BOW'].values.reshape(-1,1)\n",
    "model = LinearRegression() #on définit le modèle de regression linéaire\n",
    "model.fit(x, y) #calcule les valeurs b0 et b1 pour une regression linéaire simple\n",
    "b0 = model.intercept_\n",
    "b1 = model.coef_[0]\n",
    "print(\"Coefficients de regressions de y càd BRW : \")\n",
    "print(\"\\t 𝑏₀ = \",b0)\n",
    "print(\"\\t 𝑏₁ = \",b1)\n",
    "print(\"Ainsi l'équation de regression linéaire est : \")\n",
    "print(\"\\t Y = {:.5} + {:.4}X\".format(b0, b1))"
   ]
  },
  {
   "cell_type": "markdown",
   "metadata": {},
   "source": [
    "### 3. Plot this variable"
   ]
  },
  {
   "cell_type": "code",
   "execution_count": 171,
   "metadata": {
    "scrolled": true
   },
   "outputs": [
    {
     "data": {
      "image/png": "[encoded data removed]",
      "text/plain": [
       "<Figure size 864x288 with 1 Axes>"
      ]
     },
     "metadata": {},
     "output_type": "display_data"
    }
   ],
   "source": [
    "y_pred = model.predict(x)\n",
    "plt.figure(figsize=(12, 4))\n",
    "plt.scatter(tab['BOW'],tab['BRW'],c='black')\n",
    "plt.plot(tab['BOW'],y_pred,c='blue',linewidth=2)\n",
    "plt.xlabel(\"BOW\")\n",
    "plt.ylabel(\"BRW\")\n",
    "plt.show()"
   ]
  },
  {
   "cell_type": "markdown",
   "metadata": {},
   "source": [
    "#### - Explain the significance of each diagram displayed"
   ]
  },
  {
   "cell_type": "markdown",
   "metadata": {},
   "source": [
    "Dans ce graphe, on a 2 diagrammes :\n",
    "- un ensemble de points (en noir) : le nuage de points\n",
    "- une ligne droite (en bleu) : la droite de regression linéaire de y en fonction de x\n",
    "\n",
    "Les points du nuage sont généralement regroupés en bas sur une partie de la droite; ce qui rend difficile l'identification de chacun. On retrouve néanmoins beaucoup d'autres points qui sont décalés de la droite => il s'agit des valeurs les plus extrèmes de BOW et BRW. Les écarts entre variables prédictives sont de 200 pour une pente de 9."
   ]
  },
  {
   "cell_type": "markdown",
   "metadata": {},
   "source": [
    "#### - Based on the diagrams, what can you say on the validity of these regression results and on the data ?"
   ]
  },
  {
   "cell_type": "markdown",
   "metadata": {},
   "source": [
    "En se basant sur ces observations, nous pouvons en déduire que cette droite de regression s'ajuste plus ou moins bien sur les données. Il sera nécessaire de faire des améliorations."
   ]
  },
  {
   "cell_type": "markdown",
   "metadata": {},
   "source": [
    "### 4. Use the corresponding Python command to find the correlation coefficients."
   ]
  },
  {
   "cell_type": "code",
   "execution_count": 132,
   "metadata": {},
   "outputs": [
    {
     "name": "stdout",
     "output_type": "stream",
     "text": [
      "          BOW       BRW\n",
      "BOW  1.000000  0.974699\n",
      "BRW  0.974699  1.000000\n"
     ]
    }
   ],
   "source": [
    "#Calcul du coefficient de correlation\n",
    "r = tab.corr()\n",
    "print(r)"
   ]
  },
  {
   "cell_type": "markdown",
   "metadata": {},
   "source": [
    "#### a. Explain and comment the results on the correlation coefficients"
   ]
  },
  {
   "cell_type": "markdown",
   "metadata": {},
   "source": [
    "Pour toutes les combinaisons possibles entre les 2 variables, r est positif.\n",
    "- La corrélation de 1 entre les variables (BOW et BOW) d'une part puis (BRW et BRW) est bien justifié car il s'agit des mêmes variables. La rélation est donc parfaite entre 2 variables identiques.\n",
    "- La corrélation  positive entre BOW et BRW indique qu'il y a une dépendance forte de BRW sur BOW"
   ]
  },
  {
   "cell_type": "markdown",
   "metadata": {},
   "source": [
    "#### b. Compute the residuals and explain and comment the results on the residuals."
   ]
  },
  {
   "cell_type": "code",
   "execution_count": 134,
   "metadata": {},
   "outputs": [
    {
     "name": "stdout",
     "output_type": "stream",
     "text": [
      "[ 219.86977424  506.56777975  158.26027902  126.18900647  748.57561086\n",
      " -304.84560654 -233.94390572 -193.8451171  -185.74510486  -65.74326945\n",
      "  172.0585415  -319.5456922  1308.58515501 -628.32282951 -181.44494579\n",
      "  299.65873727   82.66412116 -403.64545971   47.45761155 -187.80351784\n",
      "  406.57426489 -385.26580477 -237.64472554 -347.54581456 -187.24443188\n",
      "   23.55811323 -157.24492132  -35.84413821  -44.34370995]\n"
     ]
    }
   ],
   "source": [
    "residuals = y - y_pred\n",
    "print(residuals)"
   ]
  },
  {
   "cell_type": "code",
   "execution_count": 160,
   "metadata": {},
   "outputs": [
    {
     "data": {
      "text/html": [
       "<div>\n",
       "<style scoped>\n",
       "    .dataframe tbody tr th:only-of-type {\n",
       "        vertical-align: middle;\n",
       "    }\n",
       "\n",
       "    .dataframe tbody tr th {\n",
       "        vertical-align: top;\n",
       "    }\n",
       "\n",
       "    .dataframe thead th {\n",
       "        text-align: right;\n",
       "    }\n",
       "</style>\n",
       "<table border=\"1\" class=\"dataframe\">\n",
       "  <thead>\n",
       "    <tr style=\"text-align: right;\">\n",
       "      <th></th>\n",
       "      <th>BRW actuel</th>\n",
       "      <th>BRW prédi</th>\n",
       "      <th>résidu</th>\n",
       "    </tr>\n",
       "  </thead>\n",
       "  <tbody>\n",
       "    <tr>\n",
       "      <th>0</th>\n",
       "      <td>2070.00</td>\n",
       "      <td>1850.130226</td>\n",
       "      <td>219.869774</td>\n",
       "    </tr>\n",
       "    <tr>\n",
       "      <th>1</th>\n",
       "      <td>2210.00</td>\n",
       "      <td>1703.432220</td>\n",
       "      <td>506.567780</td>\n",
       "    </tr>\n",
       "    <tr>\n",
       "      <th>2</th>\n",
       "      <td>1310.00</td>\n",
       "      <td>1151.739721</td>\n",
       "      <td>158.260279</td>\n",
       "    </tr>\n",
       "    <tr>\n",
       "      <th>3</th>\n",
       "      <td>1184.33</td>\n",
       "      <td>1058.140994</td>\n",
       "      <td>126.189006</td>\n",
       "    </tr>\n",
       "    <tr>\n",
       "      <th>4</th>\n",
       "      <td>3028.00</td>\n",
       "      <td>2279.424389</td>\n",
       "      <td>748.575611</td>\n",
       "    </tr>\n",
       "  </tbody>\n",
       "</table>\n",
       "</div>"
      ],
      "text/plain": [
       "   BRW actuel    BRW prédi      résidu\n",
       "0     2070.00  1850.130226  219.869774\n",
       "1     2210.00  1703.432220  506.567780\n",
       "2     1310.00  1151.739721  158.260279\n",
       "3     1184.33  1058.140994  126.189006\n",
       "4     3028.00  2279.424389  748.575611"
      ]
     },
     "execution_count": 160,
     "metadata": {},
     "output_type": "execute_result"
    }
   ],
   "source": [
    "df = pd.DataFrame({'BRW actuel': y, 'BRW prédi': y_pred, 'résidu': residuals})\n",
    "df.head()"
   ]
  },
  {
   "cell_type": "markdown",
   "metadata": {},
   "source": [
    "#### - Comment"
   ]
  },
  {
   "cell_type": "markdown",
   "metadata": {},
   "source": [
    "On constate qu'il y a des valeurs positives et négatives du résidu."
   ]
  },
  {
   "cell_type": "markdown",
   "metadata": {},
   "source": [
    "#### - Explain"
   ]
  },
  {
   "cell_type": "markdown",
   "metadata": {},
   "source": [
    "Les valeurs positives pour le résidu signifient que la prédiction était trop faible et des valeurs négatives signifient que la prédiction était trop élevée."
   ]
  },
  {
   "cell_type": "markdown",
   "metadata": {},
   "source": [
    "#### c. Explain what the $ R^2$ coefficient represent in this result."
   ]
  },
  {
   "cell_type": "code",
   "execution_count": 136,
   "metadata": {},
   "outputs": [
    {
     "name": "stdout",
     "output_type": "stream",
     "text": [
      "𝑅² = 0.9500384360421301\n"
     ]
    }
   ],
   "source": [
    "score = model.score(x,y)\n",
    "print(\"𝑅² =\", score)"
   ]
  },
  {
   "cell_type": "markdown",
   "metadata": {},
   "source": [
    "𝑅² représente le coefficient de détermination. Il permet d'évaluer l'exactitude d'un modèle."
   ]
  },
  {
   "cell_type": "markdown",
   "metadata": {},
   "source": [
    "#### d. Conclusion"
   ]
  },
  {
   "cell_type": "markdown",
   "metadata": {},
   "source": [
    "Comme R²=0.95, ce qui revient à dire que le modèle de regression linéaire s'ajuste à 95 % à ce dataset pour la prédiction des BRW en fonction de BOW. Nous supposons que les 5% restant sont causés par les valeurs extrèmes qu'on a pu observées à travers les diagrammes."
   ]
  },
  {
   "cell_type": "markdown",
   "metadata": {},
   "source": [
    "# B. Second linear regression"
   ]
  },
  {
   "cell_type": "markdown",
   "metadata": {},
   "source": [
    "### 1. Create a new array tab2 from which you will remove ”Pteropus vampyrus”."
   ]
  },
  {
   "cell_type": "markdown",
   "metadata": {},
   "source": [
    "Etant donné que ”Pteropus vampyrus” correspond à la ligne 13, On a formé tab2 en excluant cette ligne comme suit :"
   ]
  },
  {
   "cell_type": "code",
   "execution_count": 146,
   "metadata": {},
   "outputs": [
    {
     "data": {
      "text/html": [
       "<div>\n",
       "<style scoped>\n",
       "    .dataframe tbody tr th:only-of-type {\n",
       "        vertical-align: middle;\n",
       "    }\n",
       "\n",
       "    .dataframe tbody tr th {\n",
       "        vertical-align: top;\n",
       "    }\n",
       "\n",
       "    .dataframe thead th {\n",
       "        text-align: right;\n",
       "    }\n",
       "</style>\n",
       "<table border=\"1\" class=\"dataframe\">\n",
       "  <thead>\n",
       "    <tr style=\"text-align: right;\">\n",
       "      <th></th>\n",
       "      <th>BOW</th>\n",
       "      <th>BRW</th>\n",
       "    </tr>\n",
       "  </thead>\n",
       "  <tbody>\n",
       "    <tr>\n",
       "      <th>0</th>\n",
       "      <td>136.3</td>\n",
       "      <td>2070.00</td>\n",
       "    </tr>\n",
       "    <tr>\n",
       "      <th>1</th>\n",
       "      <td>120.0</td>\n",
       "      <td>2210.00</td>\n",
       "    </tr>\n",
       "    <tr>\n",
       "      <th>2</th>\n",
       "      <td>58.7</td>\n",
       "      <td>1310.00</td>\n",
       "    </tr>\n",
       "    <tr>\n",
       "      <th>3</th>\n",
       "      <td>48.3</td>\n",
       "      <td>1184.33</td>\n",
       "    </tr>\n",
       "    <tr>\n",
       "      <th>4</th>\n",
       "      <td>184.0</td>\n",
       "      <td>3028.00</td>\n",
       "    </tr>\n",
       "  </tbody>\n",
       "</table>\n",
       "</div>"
      ],
      "text/plain": [
       "     BOW      BRW\n",
       "0  136.3  2070.00\n",
       "1  120.0  2210.00\n",
       "2   58.7  1310.00\n",
       "3   48.3  1184.33\n",
       "4  184.0  3028.00"
      ]
     },
     "execution_count": 146,
     "metadata": {},
     "output_type": "execute_result"
    }
   ],
   "source": [
    "tab2_a = table[0:13]\n",
    "tab2_b = table[14:29]\n",
    "tab2=pd.concat([tab2_a, tab2_b])\n",
    "tab2 = tab2[['BOW', 'BRW']]\n",
    "tab2.head()"
   ]
  },
  {
   "cell_type": "markdown",
   "metadata": {},
   "source": [
    "#### a. What is the difference between tab and tab2 correlation wise."
   ]
  },
  {
   "cell_type": "code",
   "execution_count": 147,
   "metadata": {},
   "outputs": [
    {
     "name": "stdout",
     "output_type": "stream",
     "text": [
      "Coefficients de corrélation de tab\n",
      "           BOW       BRW\n",
      "BOW  1.000000  0.974699\n",
      "BRW  0.974699  1.000000\n",
      "\n",
      " Coefficients de corrélation de tab2\n",
      "          BOW      BRW\n",
      "BOW  1.00000  0.98885\n",
      "BRW  0.98885  1.00000\n"
     ]
    }
   ],
   "source": [
    "r1 = tab.corr()\n",
    "print(\"Coefficients de corrélation de tab\\n\", r1)\n",
    "r2 = tab2.corr()\n",
    "print(\"\\n Coefficients de corrélation de tab2\\n\", r2)"
   ]
  },
  {
   "cell_type": "markdown",
   "metadata": {},
   "source": [
    "La corrélation entre BOW et BRW dans tab2 est supérieur à celle dans tab"
   ]
  },
  {
   "cell_type": "markdown",
   "metadata": {},
   "source": [
    "#### b. Why do you think it is better to work with tab2 instead of tab ?"
   ]
  },
  {
   "cell_type": "markdown",
   "metadata": {},
   "source": [
    "Après vérification, nous avons constaté que la ligne 13 qu'on a supprimé dans tab contenait les valeurs les plus extrèmes (outliers) de BRW et BOW; ce qui devrait occasionner les 95 % d'exactitude du modèle choisi.\n",
    "Aussi, du fait que la corrélation (r) dans tab2 est supérieure à r dans tab indique que la relation est encore plus forte entre BRW et BOW. De ce fait, l'application d'un modèle sur tab2 donnera des meilleurs résultats."
   ]
  },
  {
   "cell_type": "markdown",
   "metadata": {},
   "source": [
    "### 2)"
   ]
  },
  {
   "cell_type": "markdown",
   "metadata": {},
   "source": [
    "#### - Graphique de BOW/BRW pour tab2"
   ]
  },
  {
   "cell_type": "code",
   "execution_count": 148,
   "metadata": {},
   "outputs": [
    {
     "data": {
      "image/png": "[encoded data removed]",
      "text/plain": [
       "<Figure size 432x288 with 1 Axes>"
      ]
     },
     "metadata": {},
     "output_type": "display_data"
    }
   ],
   "source": [
    "#Affichage des données de BOW par rapport à BRW\n",
    "plt.scatter(tab2[\"BRW\"],(tab2[\"BOW\"]) , c='green') # on trace le nuage de points\n",
    "#on défint qqs caractéristiques du graphes\n",
    "plt.style.use('seaborn-whitegrid')\n",
    "plt.title('nuage de points BOW/BRW')\n",
    "plt.xlabel('BOW') \n",
    "plt.ylabel('BRW')\n",
    "plt.show()"
   ]
  },
  {
   "cell_type": "markdown",
   "metadata": {},
   "source": [
    "#### - Coefficents de regression pour tab2"
   ]
  },
  {
   "cell_type": "code",
   "execution_count": 175,
   "metadata": {},
   "outputs": [
    {
     "name": "stdout",
     "output_type": "stream",
     "text": [
      "Coefficients de regressions de y càd BRW : \n",
      "\t 𝑏₀ =  346.5451556610758\n",
      "\t 𝑏₁ =  14.509900826013135\n",
      "Ainsi l'équation de regression linéaire est : \n",
      "\t Y = 346.55 + 14.51X\n"
     ]
    }
   ],
   "source": [
    "y2 = tab2['BRW'].values\n",
    "#print(\"Variable à expliquer, BRW = \", y)\n",
    "x2 = tab2['BOW'].values.reshape(-1,1)\n",
    "model2 = LinearRegression() #on définit le modèle de regression linéaire\n",
    "model2.fit(x2, y2) #calcule les valeurs b0 et b1 pour une regression linéaire simple\n",
    "b0_1 = model2.intercept_\n",
    "b1_1 = model2.coef_[0]\n",
    "print(\"Coefficients de regressions de y càd BRW : \")\n",
    "print(\"\\t 𝑏₀ = \",b0_1)\n",
    "print(\"\\t 𝑏₁ = \",b1_1)\n",
    "print(\"Ainsi l'équation de regression linéaire est : \")\n",
    "print(\"\\t Y = {:.5} + {:.4}X\".format(b0_1, b1_1))"
   ]
  },
  {
   "cell_type": "markdown",
   "metadata": {},
   "source": [
    "#### - Visualisation de la variable Y"
   ]
  },
  {
   "cell_type": "code",
   "execution_count": 178,
   "metadata": {},
   "outputs": [
    {
     "data": {
      "image/png": "[encoded data removed]",
      "text/plain": [
       "<Figure size 864x288 with 1 Axes>"
      ]
     },
     "metadata": {},
     "output_type": "display_data"
    }
   ],
   "source": [
    "y_pred_2 = model2.predict(x2)\n",
    "plt.figure(figsize=(12, 4))\n",
    "plt.scatter(tab2['BOW'],tab2['BRW'],c='green')\n",
    "plt.plot(tab2['BOW'],y_pred_2,c='red',linewidth=2)\n",
    "plt.xlabel(\"BOW\")\n",
    "plt.ylabel(\"BRW\")\n",
    "plt.show()"
   ]
  },
  {
   "cell_type": "markdown",
   "metadata": {},
   "source": [
    "##### Explications et commentaires du graphe obtenu"
   ]
  },
  {
   "cell_type": "markdown",
   "metadata": {},
   "source": [
    "Dans ce graphe, on a 2 diagrammes :\n",
    "- un ensemble de points (en vert) : le nuage de points\n",
    "- une ligne droite (en rouge) : la droite de regression linéaire de y en fonction de x\n",
    "\n",
    "Les points du nuage suivent la droite de régression. Ils s'étalent un peu plus sur la droite; ce qui permet de mieux les distinguer. On retrouve néanmoins un point situé à l'extrème droite du graphe et d'autres points qui se démarquent des autres. Les écarts entre les variables prédictives sont de 50 pour une pente de 14.\n",
    "\n",
    "En se basant sur ces observations, nous pouvons en déduire que cette droite de regression s'ajuste mieux sur les données."
   ]
  },
  {
   "cell_type": "markdown",
   "metadata": {},
   "source": [
    "#### - interprétation du coefficient de corrélation"
   ]
  },
  {
   "cell_type": "code",
   "execution_count": 179,
   "metadata": {},
   "outputs": [
    {
     "data": {
      "text/html": [
       "<div>\n",
       "<style scoped>\n",
       "    .dataframe tbody tr th:only-of-type {\n",
       "        vertical-align: middle;\n",
       "    }\n",
       "\n",
       "    .dataframe tbody tr th {\n",
       "        vertical-align: top;\n",
       "    }\n",
       "\n",
       "    .dataframe thead th {\n",
       "        text-align: right;\n",
       "    }\n",
       "</style>\n",
       "<table border=\"1\" class=\"dataframe\">\n",
       "  <thead>\n",
       "    <tr style=\"text-align: right;\">\n",
       "      <th></th>\n",
       "      <th>BOW</th>\n",
       "      <th>BRW</th>\n",
       "    </tr>\n",
       "  </thead>\n",
       "  <tbody>\n",
       "    <tr>\n",
       "      <th>BOW</th>\n",
       "      <td>1.00000</td>\n",
       "      <td>0.98885</td>\n",
       "    </tr>\n",
       "    <tr>\n",
       "      <th>BRW</th>\n",
       "      <td>0.98885</td>\n",
       "      <td>1.00000</td>\n",
       "    </tr>\n",
       "  </tbody>\n",
       "</table>\n",
       "</div>"
      ],
      "text/plain": [
       "         BOW      BRW\n",
       "BOW  1.00000  0.98885\n",
       "BRW  0.98885  1.00000"
      ]
     },
     "execution_count": 179,
     "metadata": {},
     "output_type": "execute_result"
    }
   ],
   "source": [
    "#Calcul du coefficient de correlation\n",
    "r2 = tab2.corr()\n",
    "r2"
   ]
  },
  {
   "cell_type": "markdown",
   "metadata": {},
   "source": [
    "Pour toutes les combinaisons possibles entre les 2 variables, r est positif.\n",
    "- La corrélation de 1 entre les variables (BOW et BOW) d'une part puis (BRW et BRW) est bien justifié car il s'agit des mêmes variables. La rélation est donc parfaite entre 2 variables identiques.\n",
    "- La corrélation  positive entre BOW et BRW indique qu'il y a une très forte dépendance de BRW sur BOW"
   ]
  },
  {
   "cell_type": "markdown",
   "metadata": {},
   "source": [
    "#### - résidus et leurs interprétations"
   ]
  },
  {
   "cell_type": "code",
   "execution_count": 180,
   "metadata": {},
   "outputs": [
    {
     "name": "stdout",
     "output_type": "stream",
     "text": [
      "[-254.24463825  122.26674522  111.72366585  136.95663444   11.63309235\n",
      "  -86.35010442  -92.0377259     2.61029228   10.1593022    47.51078981\n",
      "  203.76425758  -97.19317384  141.86082792    7.29643112  322.54841626\n",
      " -136.88722008 -191.76198541  121.03950386  -63.36411152 -269.75799856\n",
      " -157.84406508  -58.82139036 -119.68327301  -21.64515235   74.54891047\n",
      "   30.39445096  116.53108567   88.74643278]\n"
     ]
    }
   ],
   "source": [
    "residual_2 = y2 - y_pred_2\n",
    "print(residual_2)"
   ]
  },
  {
   "cell_type": "markdown",
   "metadata": {},
   "source": [
    "On a 12 valeurs négatives et 16 valeurs positives.\n",
    "Les valeurs positives pour le résidu signifient que la prédiction était trop faible et des valeurs négatives signifient que la prédiction était trop élevée."
   ]
  },
  {
   "cell_type": "code",
   "execution_count": 181,
   "metadata": {},
   "outputs": [
    {
     "data": {
      "text/html": [
       "<div>\n",
       "<style scoped>\n",
       "    .dataframe tbody tr th:only-of-type {\n",
       "        vertical-align: middle;\n",
       "    }\n",
       "\n",
       "    .dataframe tbody tr th {\n",
       "        vertical-align: top;\n",
       "    }\n",
       "\n",
       "    .dataframe thead th {\n",
       "        text-align: right;\n",
       "    }\n",
       "</style>\n",
       "<table border=\"1\" class=\"dataframe\">\n",
       "  <thead>\n",
       "    <tr style=\"text-align: right;\">\n",
       "      <th></th>\n",
       "      <th>BRW actuel</th>\n",
       "      <th>BRW prédi</th>\n",
       "      <th>résidu</th>\n",
       "    </tr>\n",
       "  </thead>\n",
       "  <tbody>\n",
       "    <tr>\n",
       "      <th>0</th>\n",
       "      <td>2070.00</td>\n",
       "      <td>2324.244638</td>\n",
       "      <td>-254.244638</td>\n",
       "    </tr>\n",
       "    <tr>\n",
       "      <th>1</th>\n",
       "      <td>2210.00</td>\n",
       "      <td>2087.733255</td>\n",
       "      <td>122.266745</td>\n",
       "    </tr>\n",
       "    <tr>\n",
       "      <th>2</th>\n",
       "      <td>1310.00</td>\n",
       "      <td>1198.276334</td>\n",
       "      <td>111.723666</td>\n",
       "    </tr>\n",
       "    <tr>\n",
       "      <th>3</th>\n",
       "      <td>1184.33</td>\n",
       "      <td>1047.373366</td>\n",
       "      <td>136.956634</td>\n",
       "    </tr>\n",
       "    <tr>\n",
       "      <th>4</th>\n",
       "      <td>3028.00</td>\n",
       "      <td>3016.366908</td>\n",
       "      <td>11.633092</td>\n",
       "    </tr>\n",
       "  </tbody>\n",
       "</table>\n",
       "</div>"
      ],
      "text/plain": [
       "   BRW actuel    BRW prédi      résidu\n",
       "0     2070.00  2324.244638 -254.244638\n",
       "1     2210.00  2087.733255  122.266745\n",
       "2     1310.00  1198.276334  111.723666\n",
       "3     1184.33  1047.373366  136.956634\n",
       "4     3028.00  3016.366908   11.633092"
      ]
     },
     "execution_count": 181,
     "metadata": {},
     "output_type": "execute_result"
    }
   ],
   "source": [
    "df2 = pd.DataFrame({'BRW actuel': y2, 'BRW prédi': y_pred_2, 'résidu': residual_2})\n",
    "df2.head()"
   ]
  },
  {
   "cell_type": "markdown",
   "metadata": {},
   "source": [
    "#### - Coefficient de détermination 𝑅²"
   ]
  },
  {
   "cell_type": "code",
   "execution_count": 193,
   "metadata": {},
   "outputs": [
    {
     "name": "stdout",
     "output_type": "stream",
     "text": [
      "𝑅² = 0.9778253041251115\n",
      "Soit 𝑅² =  0.98\n"
     ]
    }
   ],
   "source": [
    "score2 = model2.score(x2,y2)\n",
    "print(\"𝑅² =\", score2)\n",
    "print (\"Soit 𝑅² = \", round(score2, 2))"
   ]
  },
  {
   "cell_type": "markdown",
   "metadata": {},
   "source": [
    "Comme R²=0.98, ce qui revient à dire que le modèle de regression linéaire s'ajuste à 98 % à ce dataset pour la prédiction des BRW en fonction de BOW. Nous supposons que les 2% restants sont causés par les valeurs extrèmes qu'on a pu observées à travers les diagrammes."
   ]
  },
  {
   "cell_type": "markdown",
   "metadata": {},
   "source": [
    "### a. Compare the results and comment."
   ]
  },
  {
   "cell_type": "markdown",
   "metadata": {},
   "source": [
    "- L'application de la regression linéaire simple sur tab, nous donne une droite de regression d'équation $  Y = 623.45 + 9.0X $, avec un coefficient de détermination de 95 % soit 5% des valeurs aberrantes. Le coefficient de corrélation r=0.97.\n",
    "- En appliquant la regression linéaire simple sur tab2, on trouve une droite de régression d'équation $  Y = 346.55 + 14.51X $ avec un coefficient de détermination de 98 % soit 2 % des valeurs aberrantes. Le coefficient de corrélation r=0.98\n",
    "\n",
    "D'une part les ordonnées dans tab sont supérieurs à celles dans tab2 et la pente dans tab est inférieure à celle de tab2. D'autre part les coefficients de corrélation et de détermination dans tab sont inférieurs à ceux dans tab2.\n",
    "\n",
    "On peut en déduire qu'il y a une amélioration de la trajectoire de la droite dans tab2, une relation encore plus forte dans tab2 par rapport à tab et enfin un meilleur ajustement de la droite de regression car dans tab2 on a moins des valeurs aberrantes."
   ]
  },
  {
   "cell_type": "markdown",
   "metadata": {},
   "source": [
    "### b. Are the result of this second regression better ? Explain why."
   ]
  },
  {
   "cell_type": "markdown",
   "metadata": {},
   "source": [
    "De ces observations, nous pouvons dire que tab2 donne des meilleures résultats que tab car on a 98% de coefficient  de détermination; ce qui traduit un meilleur ajustement sur les données."
   ]
  },
  {
   "cell_type": "markdown",
   "metadata": {},
   "source": [
    "# C. Third linear regression"
   ]
  },
  {
   "cell_type": "markdown",
   "metadata": {},
   "source": [
    "### - Récupération des données"
   ]
  },
  {
   "cell_type": "code",
   "execution_count": 96,
   "metadata": {},
   "outputs": [
    {
     "data": {
      "text/html": [
       "<div>\n",
       "<style scoped>\n",
       "    .dataframe tbody tr th:only-of-type {\n",
       "        vertical-align: middle;\n",
       "    }\n",
       "\n",
       "    .dataframe tbody tr th {\n",
       "        vertical-align: top;\n",
       "    }\n",
       "\n",
       "    .dataframe thead th {\n",
       "        text-align: right;\n",
       "    }\n",
       "</style>\n",
       "<table border=\"1\" class=\"dataframe\">\n",
       "  <thead>\n",
       "    <tr style=\"text-align: right;\">\n",
       "      <th></th>\n",
       "      <th>MOB</th>\n",
       "      <th>HIP</th>\n",
       "    </tr>\n",
       "  </thead>\n",
       "  <tbody>\n",
       "    <tr>\n",
       "      <th>0</th>\n",
       "      <td>105.77</td>\n",
       "      <td>125.97</td>\n",
       "    </tr>\n",
       "    <tr>\n",
       "      <th>1</th>\n",
       "      <td>107.80</td>\n",
       "      <td>159.80</td>\n",
       "    </tr>\n",
       "    <tr>\n",
       "      <th>2</th>\n",
       "      <td>67.00</td>\n",
       "      <td>97.70</td>\n",
       "    </tr>\n",
       "    <tr>\n",
       "      <th>3</th>\n",
       "      <td>65.27</td>\n",
       "      <td>95.40</td>\n",
       "    </tr>\n",
       "    <tr>\n",
       "      <th>4</th>\n",
       "      <td>213.43</td>\n",
       "      <td>233.30</td>\n",
       "    </tr>\n",
       "  </tbody>\n",
       "</table>\n",
       "</div>"
      ],
      "text/plain": [
       "      MOB     HIP\n",
       "0  105.77  125.97\n",
       "1  107.80  159.80\n",
       "2   67.00   97.70\n",
       "3   65.27   95.40\n",
       "4  213.43  233.30"
      ]
     },
     "execution_count": 96,
     "metadata": {},
     "output_type": "execute_result"
    }
   ],
   "source": [
    "tab3 = table[[\"MOB\", \"HIP\"]]\n",
    "tab3.head()"
   ]
  },
  {
   "cell_type": "markdown",
   "metadata": {},
   "source": [
    "### - Visualisation des données de MOB/HIP"
   ]
  },
  {
   "cell_type": "code",
   "execution_count": 183,
   "metadata": {},
   "outputs": [
    {
     "data": {
      "image/png": "[encoded data removed]",
      "text/plain": [
       "<Figure size 432x288 with 1 Axes>"
      ]
     },
     "metadata": {},
     "output_type": "display_data"
    }
   ],
   "source": [
    "plt.scatter(tab3[\"MOB\"],(tab3[\"HIP\"]) ) # on trace le nuage de points\n",
    "#on défint qqs caractéristiques du graphes\n",
    "plt.style.use('seaborn-whitegrid')\n",
    "plt.title('nuage de points MOB/HIP')\n",
    "plt.xlabel('MOB') \n",
    "plt.ylabel('HIP')\n",
    "plt.show()"
   ]
  },
  {
   "cell_type": "markdown",
   "metadata": {},
   "source": [
    "On a un nuage de points où les points suivent une ligne imaginaire. Outre celà, on voit quelques points, à l'extrème droite, qui se démarquent des autres."
   ]
  },
  {
   "cell_type": "markdown",
   "metadata": {},
   "source": [
    "### - Application de la régression linéaire simple sur les données"
   ]
  },
  {
   "cell_type": "code",
   "execution_count": 187,
   "metadata": {},
   "outputs": [
    {
     "name": "stdout",
     "output_type": "stream",
     "text": [
      "L'équation de la regression linéaire simple est: Y = 14.68 + 1.17X\n"
     ]
    }
   ],
   "source": [
    "# Equation de regression\n",
    "x3= tab3['MOB'].values.reshape(-1,1)\n",
    "y3 = tab3['HIP'].values\n",
    "model3 = LinearRegression()\n",
    "model3.fit(x3, y3)\n",
    "print(\"L'équation de la regression linéaire simple est: Y = {:.4} + {:.3}X\".format(model3.intercept_, model3.coef_[0]))"
   ]
  },
  {
   "cell_type": "code",
   "execution_count": 189,
   "metadata": {},
   "outputs": [
    {
     "data": {
      "image/png": "[encoded data removed]",
      "text/plain": [
       "<Figure size 864x288 with 1 Axes>"
      ]
     },
     "metadata": {},
     "output_type": "display_data"
    }
   ],
   "source": [
    "# Visualisation de la variable prédictive Y\n",
    "y_pred_3 = model3.predict(x3)\n",
    "plt.figure(figsize=(12, 4))\n",
    "plt.scatter(tab2['BOW'],tab2['BRW'])\n",
    "plt.plot(tab2['BOW'],y_pred_2,c='black',linewidth=2)\n",
    "plt.xlabel(\"BOW\")\n",
    "plt.ylabel(\"BRW\")\n",
    "plt.show()"
   ]
  },
  {
   "cell_type": "markdown",
   "metadata": {},
   "source": [
    "Les points sont bien étalés sur la droite de regression. Il y a moins de valeurs extrèmes. La moyenne des écarts entre un point du nuage et un point de la droite n'est pas très grande. IL y a malgré tout quelques valeurs aberrantes."
   ]
  },
  {
   "cell_type": "code",
   "execution_count": 190,
   "metadata": {},
   "outputs": [
    {
     "name": "stdout",
     "output_type": "stream",
     "text": [
      "les coefficients de corrélation sont: \n",
      "          MOB      HIP\n",
      "MOB  1.00000  0.98561\n",
      "HIP  0.98561  1.00000\n"
     ]
    }
   ],
   "source": [
    "#Calcul du coefficient de corrélation\n",
    "r3= tab3.corr()\n",
    "print(\"les coefficients de corrélation sont: \\n\",r3)"
   ]
  },
  {
   "cell_type": "markdown",
   "metadata": {},
   "source": [
    "Avec un coefficient de corrélation d'environ 0.99, la relation est presque parfaite entre MOB et HIP."
   ]
  },
  {
   "cell_type": "code",
   "execution_count": 191,
   "metadata": {},
   "outputs": [
    {
     "name": "stdout",
     "output_type": "stream",
     "text": [
      "[-12.01346867  19.44997168   4.91432336   4.63114514 -30.19273588\n",
      "   6.09977612   8.58870134   3.24037226   1.8165518  -13.635657\n",
      "  14.92598811   2.81478269   0.1214647   32.69523889  10.2264799\n",
      " -24.86785248  10.9007785   -4.98783851   8.52631597  -7.31519118\n",
      " -11.53049997 -13.72378222  -1.38197368  -6.29445724  -0.81899866\n",
      "   0.14248885  -5.43580728   3.71798039  -0.61409693]\n"
     ]
    }
   ],
   "source": [
    "# Calcul du résidu\n",
    "residual_3 = y3 - y_pred_3\n",
    "print(residual_3)"
   ]
  },
  {
   "cell_type": "markdown",
   "metadata": {},
   "source": [
    "On a 13 valeurs négatives pour 16 positives. Or les valeurs positives pour le résidu signifient que la prédiction était trop faible et des valeurs négatives signifient que la prédiction était trop élevée.\n",
    "On peut en déduire que la prédiction a été juste."
   ]
  },
  {
   "cell_type": "code",
   "execution_count": 192,
   "metadata": {},
   "outputs": [
    {
     "name": "stdout",
     "output_type": "stream",
     "text": [
      "𝑅² = 0.9714264830887358\n",
      "Soit 𝑅² =  0.97\n"
     ]
    }
   ],
   "source": [
    "# Calcul du coefficient de détermination\n",
    "score3 = model3.score(x3,y3)\n",
    "print(\"𝑅² =\", score3)\n",
    "print (\"Soit 𝑅² = \", round(score3, 2))"
   ]
  },
  {
   "cell_type": "markdown",
   "metadata": {},
   "source": [
    "Pour un coefficient de détermination de 0.97, cela suppose que l'ajustement de la droite par rapport aux données est de 97% pour 3 % des données aberrantes. "
   ]
  },
  {
   "cell_type": "markdown",
   "metadata": {},
   "source": [
    "Cette analyse nous permet de déduire que le modèle de regression linéaire simple s'applique bien sur ce dataset mais on peut obtenir des meilleures résultats en nettoyant certaines données aberrantes."
   ]
  }
 ],
 "metadata": {
  "kernelspec": {
   "display_name": "Python 3",
   "language": "python",
   "name": "python3"
  },
  "language_info": {
   "codemirror_mode": {
    "name": "ipython",
    "version": 3
   },
   "file_extension": ".py",
   "mimetype": "text/x-python",
   "name": "python",
   "nbconvert_exporter": "python",
   "pygments_lexer": "ipython3",
   "version": "3.7.3"
  }
 },
 "nbformat": 4,
 "nbformat_minor": 4
}
